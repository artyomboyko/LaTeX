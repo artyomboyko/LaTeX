{
 "cells": [
  {
   "cell_type": "markdown",
   "metadata": {},
   "source": [
    "# LaTex"
   ]
  },
  {
   "cell_type": "markdown",
   "metadata": {},
   "source": [
    "LaTeX -  наиболее популярный набор макрорасширений (или макропакет) системы компьютерной вёрстки TeX, который облегчает набор сложных документов. В частности он используется для набора математических формул."
   ]
  },
  {
   "cell_type": "markdown",
   "metadata": {},
   "source": [
    "## Включение поддержки Latex в Visual Studio Code"
   ]
  },
  {
   "cell_type": "markdown",
   "metadata": {},
   "source": [
    "Корректного отображения формул LaTeX в ячейках Markdown блокнотов Jupyter в Visula Studio Code на текущий момент [является эксперементальной функцией](https://code.visualstudio.com/updates/v1_55#_preview-features). Для включения рендринга Markdown необоходимо выполнить следующую последовательность действий:\n",
    "\n",
    "1. В Visula Studio Code перейти в \"Файл\" -> \"Настройки\" -> \"Паремерты\".\n",
    "\n",
    "![]()"
   ]
  },
  {
   "cell_type": "markdown",
   "metadata": {},
   "source": [
    "## Формулы внутри текста\n",
    "\n",
    "Для вставки формулы LaTeX внутри текста ячейки Markdown её необходимо окружить одинарными символами `$`, например: `$x = y / z^2$` будет отображатся $x = y / z^2$."
   ]
  },
  {
   "cell_type": "markdown",
   "metadata": {},
   "source": [
    "## Блок формул"
   ]
  },
  {
   "cell_type": "markdown",
   "metadata": {},
   "source": [
    "Блок LaTex формул в ячейке Markdown начинается и оканчивается строками с символами `$$`, при этом каждая отдельная строка внутри блока LaTeX заканчивается символами `\\\\`.    \n",
    "\n",
    "Например:   \n",
    "```text\n",
    "$$\n",
    "\\dfrac{n!}{k!(n-k)!} = \\binom{n}{k}\\\\    \n",
    "f(x) = \\sqrt[3]{2x} + \\sqrt{x-2} \\\\    \n",
    "$$\n",
    "```\n",
    "будет отображатся как:\n",
    "\n",
    "$$\n",
    "\\dfrac{n!}{k!(n-k)!} = \\binom{n}{k}\\\\    \n",
    "f(x) = \\sqrt[3]{2x} + \\sqrt{x-2} \\\\    \n",
    "$$\n"
   ]
  },
  {
   "cell_type": "markdown",
   "metadata": {},
   "source": [
    "## Основные числовые множества"
   ]
  },
  {
   "cell_type": "markdown",
   "metadata": {},
   "source": [
    "| Название множества | LaTeX | Отображение в документе |\n",
    "|--------------------------|-------|-------------------------|\n",
    "| Натуральные числа | `$\\mathbb{N}$`| $\\mathbb{N}$ |\n",
    "| Целые числа | `$\\mathbb{Z}$` | $\\mathbb{Z}$ |\n",
    "| Рациональные числа | `$\\mathbb{Q}$` | $\\mathbb{Q}$ |\n",
    "| Вещественные числа | `$\\mathbb{R}$` | $\\mathbb{R}$ |\n",
    "| Компелксные числа | `$\\mathbb{C}$` | $\\mathbb{C}$ |"
   ]
  },
  {
   "cell_type": "markdown",
   "metadata": {},
   "source": []
  }
 ],
 "metadata": {
  "kernelspec": {
   "display_name": "base",
   "language": "python",
   "name": "python3"
  },
  "language_info": {
   "name": "python",
   "version": "3.11.5"
  }
 },
 "nbformat": 4,
 "nbformat_minor": 2
}

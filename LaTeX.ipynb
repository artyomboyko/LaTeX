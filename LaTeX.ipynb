{
 "cells": [
  {
   "cell_type": "markdown",
   "metadata": {},
   "source": [
    "# LaTex"
   ]
  },
  {
   "cell_type": "markdown",
   "metadata": {},
   "source": [
    "LaTeX -  наиболее популярный набор макрорасширений (или макропакет) системы компьютерной вёрстки TeX, который облегчает набор сложных документов. В частности он используется для набора математических формул."
   ]
  },
  {
   "cell_type": "markdown",
   "metadata": {},
   "source": [
    "## Включение поддержки Latex в Visual Studio Code"
   ]
  },
  {
   "cell_type": "markdown",
   "metadata": {},
   "source": [
    "Корректного отображения формул LaTeX в ячейках Markdown блокнотов Jupyter в Visula Studio Code на текущий момент [является эксперементальной функцией](https://code.visualstudio.com/updates/v1_55#_preview-features). Для включения рендринга Markdown необоходимо выполнить следующую последовательность действий:\n",
    "\n",
    "1. В Visula Studio Code перейти в \"Файл\" -> \"Настройки\" -> \"Паремерты\".\n",
    "\n",
    "![]()"
   ]
  },
  {
   "cell_type": "markdown",
   "metadata": {},
   "source": [
    "## Формулы внутри текста\n",
    "\n",
    "Для вставки формулы LaTeX внутри текста ячейки Markdown её необходимо окружить одинарными символами `$`, например: `$x = y / z^2$` будет отображатся $x = y / z^2$."
   ]
  },
  {
   "cell_type": "markdown",
   "metadata": {},
   "source": [
    "## Блок формул"
   ]
  },
  {
   "cell_type": "markdown",
   "metadata": {},
   "source": [
    "Блок LaTex формул в ячейке Markdown начинается и оканчивается строками с символами `$$`, при этом каждая отдельная строка внутри блока LaTeX заканчивается символами `\\\\`.    \n",
    "\n",
    "Например:   \n",
    "```text\n",
    "$$\n",
    "\\dfrac{n!}{k!(n-k)!} = \\binom{n}{k}\\\\\n",
    "f(x) = \\sqrt[3]{2x} + \\sqrt{x-2} \\\\\n",
    "$$\n",
    "```\n",
    "будет отображатся как:\n",
    "\n",
    "$$\n",
    "\\dfrac{n!}{k!(n-k)!} = \\binom{n}{k}\\\\    \n",
    "f(x) = \\sqrt[3]{2x} + \\sqrt{x-2} \\\\    \n",
    "$$\n"
   ]
  },
  {
   "cell_type": "markdown",
   "metadata": {},
   "source": [
    "## Красивые буквы"
   ]
  },
  {
   "cell_type": "markdown",
   "metadata": {},
   "source": [
    "|  | |\n",
    "|---------------------------------|---------------------------------|    \n",
    "| `$\\mathcal{A}$` - $\\mathcal{A}$ | `$\\mathscr{A}$` - $\\mathscr{A}$ |    \n",
    "| `$\\mathcal{B}$` - $\\mathcal{B}$ | `$\\mathscr{B}$` - $\\mathscr{B}$ |      \n",
    "| `$\\mathcal{C}$` - $\\mathcal{C}$ | `$\\mathscr{C}$` - $\\mathscr{C}$ |     \n",
    "| `$\\mathcal{D}$` - $\\mathcal{D}$ | `$\\mathscr{D}$` - $\\mathscr{D}$ |      \n",
    "| `$\\mathcal{E}$` - $\\mathcal{E}$ | `$\\mathscr{E}$` - $\\mathscr{E}$ |      \n",
    "| `$\\mathcal{F}$` - $\\mathcal{F}$ | `$\\mathscr{F}$` - $\\mathscr{F}$ |      \n",
    "| `$\\mathcal{G}$` - $\\mathcal{G}$ | `$\\mathscr{G}$` - $\\mathscr{G}$ |      \n",
    "| `$\\mathcal{H}$` - $\\mathcal{H}$ | `$\\mathscr{H}$` - $\\mathscr{H}$ |      \n",
    "| `$\\mathcal{I}$` - $\\mathcal{I}$ | `$\\mathscr{I}$` - $\\mathscr{I}$ |      \n",
    "| `$\\mathcal{J}$` - $\\mathcal{J}$ | `$\\mathscr{J}$` - $\\mathscr{J}$ |      \n",
    "| `$\\mathcal{K}$` - $\\mathcal{K}$ | `$\\mathscr{K}$` - $\\mathscr{K}$ |      \n",
    "| `$\\mathcal{L}$` - $\\mathcal{L}$ | `$\\mathscr{L}$` - $\\mathscr{L}$ |      \n",
    "| `$\\mathcal{M}$` - $\\mathcal{M}$ | `$\\mathscr{M}$` - $\\mathscr{M}$ |      \n",
    "| `$\\mathcal{N}$` - $\\mathcal{N}$ | `$\\mathscr{N}$` - $\\mathscr{N}$ |      \n",
    "| `$\\mathcal{O}$` - $\\mathcal{O}$ | `$\\mathscr{O}$` - $\\mathscr{O}$ |      \n",
    "| `$\\mathcal{P}$` - $\\mathcal{P}$ | `$\\mathscr{P}$` - $\\mathscr{P}$ |      \n",
    "| `$\\mathcal{Q}$` - $\\mathcal{Q}$ | `$\\mathscr{Q}$` - $\\mathscr{Q}$ |      \n",
    "| `$\\mathcal{R}$` - $\\mathcal{R}$ | `$\\mathscr{R}$` - $\\mathscr{R}$ |      \n",
    "| `$\\mathcal{S}$` - $\\mathcal{S}$ | `$\\mathscr{S}$` - $\\mathscr{S}$ |      \n",
    "| `$\\mathcal{T}$` - $\\mathcal{T}$ | `$\\mathscr{T}$` - $\\mathscr{T}$ |      \n",
    "| `$\\mathcal{U}$` - $\\mathcal{U}$ | `$\\mathscr{U}$` - $\\mathscr{U}$ |      \n",
    "| `$\\mathcal{V}$` - $\\mathcal{V}$ | `$\\mathscr{V}$` - $\\mathscr{V}$ |      \n",
    "| `$\\mathcal{W}$` - $\\mathcal{W}$ | `$\\mathscr{W}$` - $\\mathscr{W}$ |       \n",
    "| `$\\mathcal{X}$` - $\\mathcal{X}$ | `$\\mathscr{X}$` - $\\mathscr{X}$ |      \n",
    "| `$\\mathcal{Y}$` - $\\mathcal{Y}$ | `$\\mathscr{Y}$` - $\\mathscr{Y}$ |      \n",
    "| `$\\mathcal{Z}$` - $\\mathcal{Z}$ | `$\\mathscr{Z}$` - $\\mathscr{Z}$ |   "
   ]
  },
  {
   "cell_type": "markdown",
   "metadata": {},
   "source": [
    "## Греческие буквы"
   ]
  },
  {
   "cell_type": "markdown",
   "metadata": {},
   "source": [
    "| | | | |\n",
    "|------------|------------|------------|------------|\n",
    "| `\\Alpha`   | $\\Alpha$   | `\\alpha`   | $\\alpha$   |\t\n",
    "| `\\Beta`    | $\\Beta$    | `\\beta`    | $\\beta$    |\t\n",
    "| `\\Gamma`   | $\\Gamma$   | `\\gamma`   | $\\gamma$   |\t\n",
    "| `\\Delta`   | $\\Delta$   | `\\delta`   | $\\delta$   | \n",
    "| `\\Epsilon` | $\\Epsilon$ | `\\epsilon` | $\\epsilon$ |\t\n",
    "| `\\Zeta`    | $\\Zeta$    | `\\zeta`    | $\\zeta$    |\t\n",
    "| `\\Eta`     | $\\Eta$     | `\\eta`     | $\\eta$     |\t\n",
    "| `\\Theta`   | $\\Theta$   | `\\theta`   | $\\theta$   |\n",
    "| `\\Iota`    | $\\Iota$    | `\\iota`    | $\\iota$    | \n",
    "| `\\Kappa`   | $\\Kappa$   | `\\kappa`   | $\\kappa$   |\t\n",
    "| `\\Lambda`  | $\\Lambda$  | `\\lambda`  | $\\lambda$  |\n",
    "| `\\Mu`      | $\\Mu$      | `\\mu`      | $\\mu$      |\n",
    "| `\\Nu`      | $\\Nu$      | `\\nu`      | $\\nu$      |\t\n",
    "| `\\Xi`      | $\\Xi$      | `\\xi`      | $\\xi$      |\t\n",
    "| `\\Omicron` | $\\Omicron$ | `\\omicron` | $\\omicron$ |\t\n",
    "| `\\Pi`      | $\\Pi$      | `\\pi`      | $\\pi$      | \n",
    "| `\\Rho`     | $\\Rho$     | `\\rho`     | $\\rho$     |\t\n",
    "| `\\Sigma`   | $\\Sigma$   | `\\sigma`   | $\\sigma$   |\t\n",
    "| `\\Tau`     | $\\Tau$     | `\\tau`     | $\\tau$     | \n",
    "| `\\Upsilon` | $\\Upsilon$ | `\\upsilon` | $\\upsilon$ | \n",
    "| `\\Phi`     | $\\Phi$     | `\\phi`     | $\\phi$     | \t\n",
    "| `\\Chi`     | $\\Chi$     | `\\chi`     | $\\chi$     | \t\n",
    "| `\\Psi`     | $\\Psi$     | `\\psi`     | $\\psi$     |\t\n",
    "| `\\Omega`   | $\\Omega$   | `\\omega`   | $\\omega$   |\n",
    "\n",
    "\n"
   ]
  },
  {
   "cell_type": "markdown",
   "metadata": {},
   "source": [
    "## Система уравнений"
   ]
  },
  {
   "cell_type": "markdown",
   "metadata": {},
   "source": [
    "### C фигурной скобкой "
   ]
  },
  {
   "cell_type": "markdown",
   "metadata": {},
   "source": [
    "```text\n",
    "$$\n",
    "\\begin{equation}\n",
    "    \\begin{cases}\n",
    "      x_1 - x_2 + 8x_3 - 2x_4 = -9 \\\\\n",
    "      2x_1 + 8x_2 + 15x_3 - 10x_4 = -6\\\\\n",
    "      -2x_1 + 12x_2 - 20x_3 - x_4 = 55\\\\\n",
    "      7x_1 - 3x_2 + x_3 + 3x_4 = 62\n",
    "    \\end{cases}\\\n",
    "\\end{equation}\n",
    "$$\n",
    "```\n",
    "\n",
    "$$\n",
    "\\begin{equation}\n",
    "    \\begin{cases}\n",
    "      x_1 - x_2 + 8x_3 - 2x_4 = -9 \\\\\n",
    "      2x_1 + 8x_2 + 15x_3 - 10x_4 = -6\\\\\n",
    "      -2x_1 + 12x_2 - 20x_3 - x_4 = 55\\\\\n",
    "      7x_1 - 3x_2 + x_3 + 3x_4 = 62\n",
    "    \\end{cases}\\\n",
    "\\end{equation}\n",
    "$$"
   ]
  },
  {
   "cell_type": "markdown",
   "metadata": {},
   "source": [
    "## Основные числовые множества"
   ]
  },
  {
   "cell_type": "markdown",
   "metadata": {},
   "source": [
    "| Название множества | LaTeX | Отображение в документе |\n",
    "|--------------------------|-------|-------------------------|\n",
    "| Натуральные числа | `$\\mathbb{N}$`| $\\mathbb{N}$ |\n",
    "| Целые числа | `$\\mathbb{Z}$` | $\\mathbb{Z}$ |\n",
    "| Рациональные числа | `$\\mathbb{Q}$` | $\\mathbb{Q}$ |\n",
    "| Вещественные числа | `$\\mathbb{R}$` | $\\mathbb{R}$ |\n",
    "| Компелксные числа | `$\\mathbb{C}$` | $\\mathbb{C}$ |"
   ]
  },
  {
   "cell_type": "markdown",
   "metadata": {},
   "source": [
    "## Множества"
   ]
  },
  {
   "cell_type": "markdown",
   "metadata": {},
   "source": [
    "Пустое множество `$\\emptyset$` - $\\emptyset$    \n",
    "\n",
    "Объединение множеств `$\\cup$` - $\\cup$    \n",
    "Пересечение  множеств `$\\cap$` - $\\cap$  \n",
    "\n",
    "Подмножество `$\\subset$` - $\\subset$     \n",
    "Надмножество `$\\supset$` - $\\supset$ \n",
    "\n",
    "Элемент принадлежит множеству `$\\in$` - $\\in$    \n",
    "Элемент не принадлежит множеству `$\\notin$` - $\\notin$    "
   ]
  },
  {
   "cell_type": "markdown",
   "metadata": {},
   "source": [
    "## Вектор"
   ]
  },
  {
   "cell_type": "markdown",
   "metadata": {},
   "source": [
    "Знак вектора, стрелка над буквой `$\\vec{a}$` будет выглядеть так $\\vec{a}$."
   ]
  },
  {
   "cell_type": "markdown",
   "metadata": {},
   "source": [
    "## Матрицы"
   ]
  },
  {
   "cell_type": "markdown",
   "metadata": {},
   "source": [
    "### Матрица без скобок"
   ]
  },
  {
   "cell_type": "markdown",
   "metadata": {},
   "source": [
    "```text\n",
    "$$\n",
    "\\begin{matrix}\n",
    "1 & 2 & 3 \\\\\n",
    "4 & 5 & 6 \\\\\n",
    "7 & 8 & 9\n",
    "\\end{matrix}\n",
    "\n",
    "=\n",
    "\n",
    "\\begin{matrix}\n",
    "1 & 2 & 3 \\\\\n",
    "4 & 5 & 6 \\\\\n",
    "7 & 8 & 9\n",
    "\\end{matrix}\n",
    "$$\n",
    "```\n",
    "\n",
    "$$\n",
    "\\begin{matrix}\n",
    "1 & 2 & 3 \\\\\n",
    "4 & 5 & 6 \\\\\n",
    "7 & 8 & 9\n",
    "\\end{matrix}\n",
    "\n",
    "=\n",
    "\n",
    "\\begin{matrix}\n",
    "1 & 2 & 3 \\\\\n",
    "4 & 5 & 6 \\\\\n",
    "7 & 8 & 9\n",
    "\\end{matrix}\n",
    "$$"
   ]
  },
  {
   "cell_type": "markdown",
   "metadata": {},
   "source": [
    "### Матрица с круглыми скобками"
   ]
  },
  {
   "cell_type": "markdown",
   "metadata": {},
   "source": [
    "```text\n",
    "$$\n",
    "\\begin{pmatrix}\n",
    "1 & 2 & 3\\\\\n",
    "4 & 5 & 6\\\\\n",
    "7 & 8 & 9\n",
    "\\end{pmatrix}\n",
    "\n",
    "+\n",
    "\n",
    "\\begin{pmatrix}\n",
    "1 & 2 & 3\\\\\n",
    "4 & 5 & 6\\\\\n",
    "7 & 8 & 9\n",
    "\\end{pmatrix}\n",
    "$$\n",
    "```\n",
    "\n",
    "$$\n",
    "\\begin{pmatrix}\n",
    "1 & 2 & 3\\\\\n",
    "4 & 5 & 6\\\\\n",
    "7 & 8 & 9\n",
    "\\end{pmatrix}\n",
    "\n",
    "+\n",
    "\n",
    "\\begin{pmatrix}\n",
    "1 & 2 & 3\\\\\n",
    "4 & 5 & 6\\\\\n",
    "7 & 8 & 9\n",
    "\\end{pmatrix}\n",
    "$$"
   ]
  },
  {
   "cell_type": "markdown",
   "metadata": {},
   "source": [
    "### Матрица с квадратными скобками"
   ]
  },
  {
   "cell_type": "markdown",
   "metadata": {},
   "source": [
    "```text\n",
    "$$\n",
    "\\begin{bmatrix}\n",
    "1 & 2 & 3\\\\\n",
    "4 & 5 & 6\\\\\n",
    "7 & 8 & 9\n",
    "\\end{bmatrix}\n",
    "\n",
    "+\n",
    "\n",
    "\\begin{bmatrix}\n",
    "1 & 2 & 3\\\\\n",
    "4 & 5 & 6\\\\\n",
    "7 & 8 & 9\n",
    "\\end{bmatrix}\n",
    "$$\n",
    "```\n",
    "\n",
    "$$\n",
    "\\begin{bmatrix}\n",
    "1 & 2 & 3\\\\\n",
    "4 & 5 & 6\\\\\n",
    "7 & 8 & 9\n",
    "\\end{bmatrix}\n",
    "\n",
    "+\n",
    "\n",
    "\\begin{bmatrix}\n",
    "1 & 2 & 3\\\\\n",
    "4 & 5 & 6\\\\\n",
    "7 & 8 & 9\n",
    "\\end{bmatrix}\n",
    "$$"
   ]
  },
  {
   "cell_type": "markdown",
   "metadata": {},
   "source": [
    "### Матрица с фигурными скобками"
   ]
  },
  {
   "cell_type": "markdown",
   "metadata": {},
   "source": [
    "```text\n",
    "$$\n",
    "\\begin{Bmatrix}\n",
    "1 & 2 & 3\\\\\n",
    "4 & 5 & 6\\\\\n",
    "7 & 8 & 9\n",
    "\\end{Bmatrix}\n",
    "\n",
    "+\n",
    "\n",
    "\\begin{Bmatrix}\n",
    "1 & 2 & 3\\\\\n",
    "4 & 5 & 6\\\\\n",
    "7 & 8 & 9\n",
    "\\end{Bmatrix}\n",
    "$$\n",
    "```\n",
    "\n",
    "$$\n",
    "\\begin{Bmatrix}\n",
    "1 & 2 & 3\\\\\n",
    "4 & 5 & 6\\\\\n",
    "7 & 8 & 9\n",
    "\\end{Bmatrix}\n",
    "\n",
    "+\n",
    "\n",
    "\\begin{Bmatrix}\n",
    "1 & 2 & 3\\\\\n",
    "4 & 5 & 6\\\\\n",
    "7 & 8 & 9\n",
    "\\end{Bmatrix}\n",
    "$$"
   ]
  },
  {
   "cell_type": "markdown",
   "metadata": {},
   "source": [
    "### Матрица с прямыми линиями (одинарные и двойные)"
   ]
  },
  {
   "cell_type": "markdown",
   "metadata": {},
   "source": [
    "```text\n",
    "$$\n",
    "\\begin{vmatrix}\n",
    "1 & 2 & 3\\\\\n",
    "4 & 5 & 6\\\\\n",
    "7 & 8 & 9\n",
    "\\end{vmatrix}\n",
    "\n",
    "+\n",
    "\n",
    "\\begin{vmatrix}\n",
    "1 & 2 & 3\\\\\n",
    "4 & 5 & 6\\\\\n",
    "7 & 8 & 9\n",
    "\\end{vmatrix}\n",
    "$$\n",
    "```\n",
    "\n",
    "$$\n",
    "\\begin{vmatrix}\n",
    "1 & 2 & 3\\\\\n",
    "4 & 5 & 6\\\\\n",
    "7 & 8 & 9\n",
    "\\end{vmatrix}\n",
    "\n",
    "+\n",
    "\n",
    "\\begin{vmatrix}\n",
    "1 & 2 & 3\\\\\n",
    "4 & 5 & 6\\\\\n",
    "7 & 8 & 9\n",
    "\\end{vmatrix}\n",
    "$$\n",
    "\n",
    "```text\n",
    "$$\n",
    "\\begin{Vmatrix}\n",
    "1 & 2 & 3\\\\\n",
    "4 & 5 & 6\\\\\n",
    "7 & 8 & 9\n",
    "\\end{Vmatrix}\n",
    "\n",
    "+\n",
    "\n",
    "\\begin{Vmatrix}\n",
    "1 & 2 & 3\\\\\n",
    "4 & 5 & 6\\\\\n",
    "7 & 8 & 9\n",
    "\\end{Vmatrix}\n",
    "$$\n",
    "```\n",
    "\n",
    "$$\n",
    "\\begin{Vmatrix}\n",
    "1 & 2 & 3\\\\\n",
    "4 & 5 & 6\\\\\n",
    "7 & 8 & 9\n",
    "\\end{Vmatrix}\n",
    "\n",
    "+\n",
    "\n",
    "\\begin{Vmatrix}\n",
    "1 & 2 & 3\\\\\n",
    "4 & 5 & 6\\\\\n",
    "7 & 8 & 9\n",
    "\\end{Vmatrix}\n",
    "$$"
   ]
  }
 ],
 "metadata": {
  "kernelspec": {
   "display_name": "base",
   "language": "python",
   "name": "python3"
  },
  "language_info": {
   "name": "python",
   "version": "3.11.5"
  }
 },
 "nbformat": 4,
 "nbformat_minor": 2
}
